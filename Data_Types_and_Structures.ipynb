{
  "nbformat": 4,
  "nbformat_minor": 0,
  "metadata": {
    "colab": {
      "provenance": []
    },
    "kernelspec": {
      "name": "python3",
      "display_name": "Python 3"
    },
    "language_info": {
      "name": "python"
    }
  },
  "cells": [
    {
      "cell_type": "code",
      "execution_count": null,
      "metadata": {
        "id": "TLEr8kZZRciR"
      },
      "outputs": [],
      "source": []
    },
    {
      "cell_type": "markdown",
      "source": [
        "Data Types and Structures Questions\n",
        "\n"
      ],
      "metadata": {
        "id": "9DXIZxrrRwoN"
      }
    },
    {
      "cell_type": "markdown",
      "source": [
        "1- What are data structures, and why are they important?\n",
        "-  Data structures are a way of organizing and storing data in a computer so that it can be accessed and modified efficiently. They are fundamental to computer science and programming because they provide the framework for building more complex algorithms and software systems. Understanding data structures is crucial for writing efficient, scalable, and well-organized code.\n",
        "Here's why data structures are important.\n",
        "2- Explain the difference between mutable and immutable data types with examples?\n",
        "-  In Python, mutable data types can have their values changed after creation, while immutable data types cannot. Lists, dictionaries, and sets are mutable, while strings and tuples are immutable. Understanding this difference is important for memory management and how we interact with objects in our code.\n",
        "3-What are the main differences between lists and tuples in Python?\n",
        "- The main differences between lists and tuples in Python center around their mutability and associated characteristics:\n",
        "Mutability\n",
        "Lists are mutable: This means their elements can be changed (added, removed, or modified) after the list is created.\n",
        "Tuples are immutable: Once a tuple is created, its elements cannot be changed, added, or removed.\n",
        "4-Describe how dictionaries store data?\n",
        "- Python dictionary is a data structure that stores the value in key: value pairs. Values in a dictionary can be of any data type and can be duplicated, whereas keys can't be repeated and must be immutable.\n",
        "5-Why might you use a set instead of a list in Python?\n",
        "- Because sets cannot have multiple occurrences of the same element, it makes sets highly useful to efficiently remove duplicate values from a list or tuple and to perform common math operations like unions and intersections.\n",
        "6-What is a string in Python, and how is it different from a list ?\n",
        "-  Strings in Python are sequences of characters enclosed in quotes ('' or “”). Lists are ordered collections of items enclosed in square brackets []. 2) Strings are immutable, meaning they cannot be changed once created, while lists are mutable and can be modified as needed.\n",
        "7-How do tuples ensure data integrity in Python?\n",
        "- Tuples are immutable to ensure that their contents remain constant throughout their lifecycle, guaranteeing data integrity and reliability. This immutability allows tuples to be used as keys in dictionaries and elements in sets, as they can be hashed.\n",
        "8- What is a hash table, and how does it relate to dictionaries in Python ?\n",
        "-   A hash table is a data structure that offers an efficient way to organize data for quick access. A key is transformed into an index (a process known as hashing) of an array element where the corresponding value is stored.\n",
        "9-Can lists contain different data types in Python?\n",
        "-  Yes, lists in Python can contain elements of different data types. This characteristic is known as being \"heterogeneous.\"\n",
        "10-Explain why strings are immutable in Python?\n",
        "-  Strings are immutable in Python, meaning their content cannot be changed after they are created. Any operation that appears to modify a string, such as concatenation or character replacement, actually results in the creation of a new string object in memory, while the original string remains unchanged.\n",
        "11- What advantages do dictionaries offer over lists for certain tasks?\n",
        "-   Dictionaries and lists are two fundamental data structures in Python, each with its unique strengths and weaknesses. Dictionaries excel in scenarios requiring fast lookups, key-value associations, and complex data mappings, while lists are ideal for ordered collections, sequential processing, and simple data storage.\n",
        "12-  Describe a scenario where using a tuple would be preferable over a list?\n",
        "-    Tuples are immutable. Hence, they are primarily used to store data that doesn't change frequently. Any operation can store data in a tuple when you don't want it to change. Tuples are great to use if you want the data in your collection to be read-only, never to change, and always remain the same and constant.\n",
        "13- How do sets handle duplicate values in Python?\n",
        "-   Python sets are inherently designed to store only unique elements. They do not allow duplicate values. When attempting to add a duplicate element to a set, the set will simply ignore the addition, and the existing element will remain, ensuring the set's uniqueness propert.\n",
        "14-How does the “in” keyword work differently for lists and dictionaries?\n",
        "-  The key of the dictionary is a unique value as well as the set, and the execution time is about the same as for sets. On the other hand, dictionary values can be duplicated like a list.\n",
        "15-Can you modify the elements of a tuple? Explain why or why not?\n",
        "-  No, we cannot directly modify the elements of a tuple in Python. Tuples are immutable, meaning their contents cannot be changed after creation. This contrasts with lists, which are mutable and allow for element modification.\n",
        "Here's why:\n",
        "Immutability:\n",
        "Tuples are designed to be immutable, ensuring that their values remain constant throughout their lifespan. This characteristic is beneficial when you need to guarantee data integrity or when using tuples as dictionary keys, as mutable objects cannot be dictionary keys.\n",
        "No in-place modification methods:\n",
        "Python provides methods like append, insert, remove, and pop for lists to modify their elements directly. However, these methods are not available for tuples.\n",
        "Creating new tuples:\n",
        "To achieve a similar result to modifying a tuple, you would need to create a new tuple with the desired changes. This can be done by converting the tuple to a list, modifying the list, and then converting the list back to a tuple.\n",
        "16-What is a nested dictionary, and give an example of its use case?\n",
        "-  A nested dictionary in Python is a dictionary that contains other dictionaries as its values. This structure allows for hierarchical data representation, where each level of the hierarchy is represented by a dictionary. A common use case is to represent complex data structures like employee records with nested dictionaries to organize employees by department.\n",
        "17- Describe the time complexity of accessing elements in a dictionary?\n",
        "-   Accessing elements in a dictionary (also known as a hash map or associative array) typically has a time complexity of O(1) on average, which means it takes constant time regardless of the dictionary's size. This is because dictionaries use a hash table internally to store and retrieve data, and hash table lookups are generally very fast.\n",
        "18-In what situations are lists preferred over dictionaries?\n",
        "- For quick data look-ups, configurations, or caches, favor dictionaries. For ordered collections and sequence operations, such as maintaining a stack or queue, lists are more suitable.\n",
        "19-Why are dictionaries considered unordered, and how does that affect data retrieval?\n",
        "-    The dictionary in data structure is an unordered collection of data items that are used to store the data in the form of key-value pairs. The dictionary data structure has an attribute called the key which helps us locate the data or value in the memory.\n",
        "20- Explain the difference between a list and a dictionary in terms of data retrieval?\n",
        "-   In data retrieval, lists and dictionaries differ fundamentally. Lists are ordered collections accessed by numerical indices, while dictionaries are unordered collections accessed by unique keys. Lists are efficient for sequential access and ordered operations, whereas dictionaries excel at fast lookups based on keys.\n",
        "\n",
        "Q- Write a code to create a string with your name and print it\n",
        "\n"
      ],
      "metadata": {
        "id": "5IBRX3F_R2_c"
      }
    },
    {
      "cell_type": "code",
      "source": [
        "full_name = \"Alok Dubey\"\n",
        "print(\"Full Name:\", full_name)"
      ],
      "metadata": {
        "colab": {
          "base_uri": "https://localhost:8080/"
        },
        "id": "d85SX0sZeoMq",
        "outputId": "911d3794-f7f0-46f3-85ce-b461da7839f4"
      },
      "execution_count": 1,
      "outputs": [
        {
          "output_type": "stream",
          "name": "stdout",
          "text": [
            "Full Name: Alok Dubey\n"
          ]
        }
      ]
    },
    {
      "cell_type": "markdown",
      "source": [
        "Question-Write a code to find the length of the string \"Hello World\"\n",
        "\n"
      ],
      "metadata": {
        "id": "7A4ikrQ4fWsz"
      }
    },
    {
      "cell_type": "code",
      "source": [
        "string = \"Hello World\"\n",
        "length = len(string)\n",
        "print(length)"
      ],
      "metadata": {
        "colab": {
          "base_uri": "https://localhost:8080/"
        },
        "id": "b-o39x2YfHG2",
        "outputId": "e716c7c7-4d94-4d58-be03-52ad9d6be895"
      },
      "execution_count": 2,
      "outputs": [
        {
          "output_type": "stream",
          "name": "stdout",
          "text": [
            "11\n"
          ]
        }
      ]
    },
    {
      "cell_type": "markdown",
      "source": [
        "\n",
        "Question-  Write a code to slice the first 3 characters from the string \"Python Programming\"\n",
        "\n",
        "\n"
      ],
      "metadata": {
        "id": "XfLDedIbfVFt"
      }
    },
    {
      "cell_type": "code",
      "source": [
        "original_string = \"Python Programming\"\n",
        "sliced_string = original_string[:3]\n",
        "print(sliced_string)"
      ],
      "metadata": {
        "id": "E0oP9utwg9aR",
        "outputId": "12db30e2-cbd2-4595-e65a-ea70d8311066",
        "colab": {
          "base_uri": "https://localhost:8080/"
        }
      },
      "execution_count": 3,
      "outputs": [
        {
          "output_type": "stream",
          "name": "stdout",
          "text": [
            "Pyt\n"
          ]
        }
      ]
    },
    {
      "cell_type": "code",
      "source": [],
      "metadata": {
        "id": "xFUaBN4uhEiu"
      },
      "execution_count": null,
      "outputs": []
    },
    {
      "cell_type": "markdown",
      "source": [
        "Question-Write a code to convert the string \"hello\" to uppercase\n"
      ],
      "metadata": {
        "id": "Z-V92AFzhJ45"
      }
    },
    {
      "cell_type": "code",
      "source": [
        "original_string = \"hello\"\n",
        "uppercase_string = original_string.upper()\n",
        "print(uppercase_string)"
      ],
      "metadata": {
        "id": "JTdeMWTWhTKX",
        "outputId": "450cbcab-64ef-4888-bb56-4e569f3bea3f",
        "colab": {
          "base_uri": "https://localhost:8080/"
        }
      },
      "execution_count": 4,
      "outputs": [
        {
          "output_type": "stream",
          "name": "stdout",
          "text": [
            "HELLO\n"
          ]
        }
      ]
    },
    {
      "cell_type": "code",
      "source": [
        "\n"
      ],
      "metadata": {
        "id": "9Yedl_bUhZ0G"
      },
      "execution_count": null,
      "outputs": []
    },
    {
      "cell_type": "markdown",
      "source": [
        "Question-  Write a code to create a list with numbers 1 to 5 and print it\n",
        "\n"
      ],
      "metadata": {
        "id": "ac73ITAtheSU"
      }
    },
    {
      "cell_type": "code",
      "source": [
        "numbers = list(range(1, 5))\n",
        "print(numbers)"
      ],
      "metadata": {
        "id": "iePv1Ksqhp1g",
        "outputId": "9af3049b-5d60-41c2-be4f-56099f5e2456",
        "colab": {
          "base_uri": "https://localhost:8080/"
        }
      },
      "execution_count": 5,
      "outputs": [
        {
          "output_type": "stream",
          "name": "stdout",
          "text": [
            "[1, 2, 3, 4]\n"
          ]
        }
      ]
    },
    {
      "cell_type": "code",
      "source": [],
      "metadata": {
        "id": "hholhbqQi7Rt"
      },
      "execution_count": null,
      "outputs": []
    },
    {
      "cell_type": "markdown",
      "source": [
        "Question- Write a code to append the number 10 to the list [1, 2, 3, 4]\n"
      ],
      "metadata": {
        "id": "AdZDDF7YjERs"
      }
    },
    {
      "cell_type": "code",
      "source": [
        "my_list = [1, 2, 3, 4]\n",
        "my_list.append(10)\n",
        "print(my_list)"
      ],
      "metadata": {
        "id": "WS7P8EpQjMBy",
        "outputId": "0eab0de2-4eeb-4f4c-eb2d-1be038bcecbd",
        "colab": {
          "base_uri": "https://localhost:8080/"
        }
      },
      "execution_count": 6,
      "outputs": [
        {
          "output_type": "stream",
          "name": "stdout",
          "text": [
            "[1, 2, 3, 4, 10]\n"
          ]
        }
      ]
    },
    {
      "cell_type": "code",
      "source": [],
      "metadata": {
        "id": "VERC5FMvjRUA"
      },
      "execution_count": null,
      "outputs": []
    },
    {
      "cell_type": "markdown",
      "source": [
        "queston- Write a code to remove the number 3 from the list [1, 2, 3, 4, 5]\n"
      ],
      "metadata": {
        "id": "XO3twG3QjUT8"
      }
    },
    {
      "cell_type": "code",
      "source": [
        "lst = [1, 2, 3, 4, 5]\n",
        "       no_delete = ['2', '3']"
      ],
      "metadata": {
        "id": "5klPsV5ljcTw",
        "outputId": "ec6748fd-cf89-408b-a1fc-03b2615aabea",
        "colab": {
          "base_uri": "https://localhost:8080/",
          "height": 106
        }
      },
      "execution_count": 10,
      "outputs": [
        {
          "output_type": "error",
          "ename": "IndentationError",
          "evalue": "unexpected indent (<ipython-input-10-1417019392>, line 2)",
          "traceback": [
            "\u001b[0;36m  File \u001b[0;32m\"<ipython-input-10-1417019392>\"\u001b[0;36m, line \u001b[0;32m2\u001b[0m\n\u001b[0;31m    no_delete = ['2', '3']\u001b[0m\n\u001b[0m    ^\u001b[0m\n\u001b[0;31mIndentationError\u001b[0m\u001b[0;31m:\u001b[0m unexpected indent\n"
          ]
        }
      ]
    },
    {
      "cell_type": "code",
      "source": [
        "\n"
      ],
      "metadata": {
        "id": "cJtog3sIj4RH"
      },
      "execution_count": null,
      "outputs": []
    },
    {
      "cell_type": "markdown",
      "source": [
        "Question-Write a code to access the second element in the list ['a', 'b', 'c', 'd']\n"
      ],
      "metadata": {
        "id": "3tIwJRCjkNdm"
      }
    },
    {
      "cell_type": "code",
      "source": [
        "my_list = ['a', 'b', 'c', 'd']\n",
        "second_element = my_list[1]\n",
        "print(second_element)"
      ],
      "metadata": {
        "id": "FxMzYsPckZIx",
        "outputId": "bf7438b5-c330-4153-b239-36670d9b6056",
        "colab": {
          "base_uri": "https://localhost:8080/"
        }
      },
      "execution_count": 11,
      "outputs": [
        {
          "output_type": "stream",
          "name": "stdout",
          "text": [
            "b\n"
          ]
        }
      ]
    },
    {
      "cell_type": "code",
      "source": [],
      "metadata": {
        "id": "3TygbmNmkfI-"
      },
      "execution_count": null,
      "outputs": []
    },
    {
      "cell_type": "markdown",
      "source": [
        "Question-Write a code to reverse the list [10, 20, 30, 40, 50]\n"
      ],
      "metadata": {
        "id": "ygmdW_a8kjWV"
      }
    },
    {
      "cell_type": "code",
      "source": [
        "a = [10, 20, 30, 40, 50]\n",
        "a.reverse()\n",
        "print(a)"
      ],
      "metadata": {
        "id": "gXjiGjkZkx7c",
        "outputId": "86fe5e01-10b3-4239-9036-2ef276316cdc",
        "colab": {
          "base_uri": "https://localhost:8080/"
        }
      },
      "execution_count": 12,
      "outputs": [
        {
          "output_type": "stream",
          "name": "stdout",
          "text": [
            "[50, 40, 30, 20, 10]\n"
          ]
        }
      ]
    },
    {
      "cell_type": "code",
      "source": [],
      "metadata": {
        "id": "qNzahjaYlTrb"
      },
      "execution_count": null,
      "outputs": []
    }
  ]
}